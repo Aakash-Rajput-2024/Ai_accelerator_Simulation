{
 "cells": [
  {
   "cell_type": "code",
   "execution_count": null,
   "metadata": {},
   "outputs": [],
   "source": [
    "import numpy as np\n",
    "import pandas as pd\n",
    "import random\n",
    "from matplotlib import pyplot as plt\n",
    "import pickle\n",
    "import tensorflow as tf\n",
    "import pickle\n",
    "import csv\n",
    "\n",
    "\n",
    "(X_train_org, Y_train), (X_test_org, Y_test) = tf.keras.datasets.mnist.load_data()\n",
    "X_train = (X_train_org.reshape(X_train_org.shape[0],784)).T\n",
    "X_test = (X_test_org.reshape(X_test_org.shape[0],784)).T\n",
    "\n",
    "\n"
   ]
  },
  {
   "cell_type": "code",
   "execution_count": 54,
   "metadata": {},
   "outputs": [],
   "source": [
    "class Clock:\n",
    "    def __init__(self):\n",
    "        self.cycle = 0\n",
    "\n",
    "    def tick(self):\n",
    "        self.cycle += 1\n",
    "\n",
    "    def reset(self):\n",
    "        self.cycle = 0"
   ]
  },
  {
   "cell_type": "code",
   "execution_count": 55,
   "metadata": {},
   "outputs": [],
   "source": [
    "class Mac:\n",
    "    def __init__(self, x, y):\n",
    "        self.x_cord = x\n",
    "        self.y_cord = y\n",
    "        self.acc = 0\n",
    "        self.inpVer = 0\n",
    "        self.inpHor = 0\n",
    "        self.outVer = 0\n",
    "        self.outHor = 0\n",
    "        self.active = False\n",
    "        self.log = [] \n",
    "\n",
    "    def read(self):\n",
    "        self.outVer = self.inpVer\n",
    "        self.outHor = self.inpHor\n",
    "\n",
    "    def compute(self, clock):\n",
    "        self.acc += self.inpHor * self.inpVer\n",
    "        self.log.append((clock.cycle, self.acc))\n",
    "\n",
    "    def reset(self, clear_log=False): \n",
    "        self.acc = 0\n",
    "        self.inpHor = 0\n",
    "        self.inpVer = 0\n",
    "        self.outHor = 0\n",
    "        self.outVer = 0\n",
    "        self.active = True\n",
    "        if clear_log:\n",
    "            self.log = []\n",
    "\n",
    "    def print_log(self):\n",
    "        for cycle, val in self.log:\n",
    "            print(f\"Cycle {cycle} | MAC[{self.x_cord}][{self.y_cord}] Acc = {val}\")\n",
    "\n",
    "    def log_rows(self): \n",
    "        return [[self.x_cord, self.y_cord, cycle, acc] for cycle, acc in self.log]\n"
   ]
  },
  {
   "cell_type": "code",
   "execution_count": 56,
   "metadata": {},
   "outputs": [],
   "source": [
    "\n",
    "\n",
    "class MacArray:\n",
    "    def __init__(self, row, col):\n",
    "        self.row = row\n",
    "        self.col = col\n",
    "        self.n = 0\n",
    "        self.p = 0\n",
    "        self.array = [[Mac(i, j) for j in range(col)] for i in range(row)]\n",
    "\n",
    "    def reset(self):\n",
    "        for row in self.array:\n",
    "            for mac in row:\n",
    "                mac.reset()\n",
    "\n",
    "    def printMac(self):\n",
    "        for row in self.array:\n",
    "            for mac in row:\n",
    "                mac.print_log()\n",
    "\n",
    "    def get_result(self, p, n):\n",
    "        return [\n",
    "            [self.array[i][j].acc if getattr(self.array[i][j], \"active\", False) else 0\n",
    "             for j in range(p)]\n",
    "            for i in range(n)\n",
    "        ]\n",
    "\n",
    "    def multiply(self, A, B, clock, showprogress=False, returnResult=True):\n",
    "        n, m, p = len(A), len(A[0]), len(B[0])\n",
    "        if m != len(B):\n",
    "            raise ValueError(f\"Matrix dimensions do not match: {m} (A columns) != {len(B)} (B rows)\")\n",
    "\n",
    "        self.n = n\n",
    "        self.p = p\n",
    "\n",
    "        self.reset()\n",
    "        clock.reset()\n",
    "\n",
    "        total_cycles = n + m + p\n",
    "\n",
    "        a_buffer = [[0 for _ in range(total_cycles)] for _ in range(n)]\n",
    "        b_buffer = [[0 for _ in range(total_cycles)] for _ in range(p)]\n",
    "\n",
    "        for i in range(n):\n",
    "            for k in range(m):\n",
    "                a_buffer[i][k + i] = A[i][k]\n",
    "\n",
    "        for j in range(p):\n",
    "            for k in range(m):\n",
    "                b_buffer[j][k + j] = B[k][j]\n",
    "\n",
    "        for t in range(total_cycles):\n",
    "            for i in range(n):\n",
    "                for j in range(p):\n",
    "                    mac = self.array[i][j]\n",
    "                    mac.active = True\n",
    "                    mac.inpHor = a_buffer[i][t - j] if (t - j) >= 0 else 0\n",
    "                    mac.inpVer = b_buffer[j][t - i] if (t - i) >= 0 else 0\n",
    "\n",
    "            for i in range(n):\n",
    "                for j in range(p):\n",
    "                    self.array[i][j].read()\n",
    "            for i in range(n):\n",
    "                for j in range(p):\n",
    "                    self.array[i][j].compute(clock)\n",
    "\n",
    "            for i in range(n):\n",
    "                for j in range(p):\n",
    "                    mac = self.array[i][j]\n",
    "                    if j + 1 < p:\n",
    "                        self.array[i][j + 1].inpHor = mac.outHor\n",
    "                    if i + 1 < n:\n",
    "                        self.array[i + 1][j].inpVer = mac.outVer\n",
    "\n",
    "            if showprogress:\n",
    "                print(clock.cycle)\n",
    "            clock.tick()\n",
    "\n",
    "        if returnResult:\n",
    "            return np.array(self.get_result(p, n)) \n",
    "        \n",
    "    def to_csv(self, filepath):\n",
    "        import csv\n",
    "        with open(filepath, mode='w', newline='') as file:\n",
    "            writer = csv.writer(file)\n",
    "            writer.writerow([\"X\", \"Y\", \"Cycle\", \"Accumulator\"])\n",
    "            for row in self.array:\n",
    "                for mac in row:\n",
    "                    writer.writerows(mac.log_rows()) \n",
    "\n"
   ]
  },
  {
   "cell_type": "code",
   "execution_count": null,
   "metadata": {},
   "outputs": [],
   "source": []
  },
  {
   "cell_type": "code",
   "execution_count": 57,
   "metadata": {},
   "outputs": [],
   "source": [
    "#No propblem\n",
    "\n",
    "X_train = X_train / 255.\n",
    "X_test = X_test / 255.\n"
   ]
  },
  {
   "cell_type": "code",
   "execution_count": 58,
   "metadata": {},
   "outputs": [
    {
     "data": {
      "text/plain": [
       "(784, 60000)"
      ]
     },
     "execution_count": 58,
     "metadata": {},
     "output_type": "execute_result"
    }
   ],
   "source": [
    "X_train.shape"
   ]
  },
  {
   "cell_type": "code",
   "execution_count": 59,
   "metadata": {},
   "outputs": [],
   "source": [
    "## MAking MAc array here\n",
    "\n",
    "ma = MacArray(1000,1000)\n",
    "clock =Clock()\n"
   ]
  },
  {
   "cell_type": "code",
   "execution_count": 60,
   "metadata": {},
   "outputs": [],
   "source": [
    "def init_params():\n",
    "    W1 = np.random.rand(128, 784) - 0.5\n",
    "    b1 = np.random.rand(128, 1) - 0.5\n",
    "    W2 = np.random.rand(64, 128) - 0.5\n",
    "    b2 = np.random.rand(64, 1) - 0.5\n",
    "    W3 = np.random.rand(10, 64) - 0.5\n",
    "    b3 = np.random.rand(10, 1) - 0.5\n",
    "\n",
    "    \n",
    "    return W1, b1, W2, b2, W3, b3\n",
    "\n",
    "#fine (above)\n",
    "\n",
    "def ReLU(Z):\n",
    "    return np.maximum(Z, 0)\n",
    "\n",
    "def softmax(Z):\n",
    "    expZ = np.exp(Z - np.max(Z, axis=0, keepdims=True)) \n",
    "    return expZ / np.sum(expZ, axis=0, keepdims=True) #ok\n",
    "\n",
    "def ReLU_deriv(Z):\n",
    "    return (Z > 0).astype(int) #ok\n",
    "\n",
    "def one_hot(Y):\n",
    "    one_hot_Y = np.zeros((Y.size, Y.max() + 1))\n",
    "    one_hot_Y[np.arange(Y.size), Y] = 1\n",
    "    one_hot_Y = one_hot_Y.T\n",
    "    return one_hot_Y #ok\n",
    "\n",
    "def forward_prop(X, W1, b1, W2, b2, W3, b3):\n",
    "    Z1 =   ma.multiply(W1,X,clock)+ b1\n",
    "    A1 = ReLU(Z1)\n",
    "    Z2 = ma.multiply(W2,A1,clock) + b2\n",
    "    A2 = ReLU(Z2)\n",
    "    Z3 = ma.multiply(W3,A2,clock) + b3 \n",
    "    A3 = softmax(Z3)\n",
    "    return Z1, A1, Z2, A2, Z3, A3 #ok\n",
    "\n",
    "def backward_prop(Z1, A1, Z2, A2, Z3, A3, W1, W2, W3, X, Y):\n",
    "    m = X.shape[1] \n",
    "    one_hot_Y = one_hot(Y)\n",
    "    \n",
    "   \n",
    "    dZ3 = A3 - one_hot_Y\n",
    "    dW3 = 1 / m * dZ3.dot(A2.T)\n",
    "    db3 = 1 / m * np.sum(dZ3, axis=1, keepdims=True)  \n",
    "\n",
    "\n",
    "    dZ2 = W3.T.dot(dZ3) * ReLU_deriv(Z2)\n",
    "    dW2 = 1 / m * dZ2.dot(A1.T)\n",
    "    db2 = 1 / m * np.sum(dZ2, axis=1, keepdims=True)  \n",
    "\n",
    "    dZ1 = W2.T.dot(dZ2) * ReLU_deriv(Z1)\n",
    "    dW1 = 1 / m * dZ1.dot(X.T)\n",
    "    db1 = 1 / m * np.sum(dZ1, axis=1, keepdims=True)  \n",
    "    \n",
    "    return dW1, db1, dW2, db2, dW3, db3\n",
    "\n",
    "\n",
    "def update_params(W1, b1, W2, b2, W3, b3, dW1, db1, dW2, db2, dW3, db3, alpha):\n",
    "    W1 = W1 - alpha * dW1\n",
    "    b1 = b1 - alpha * db1    \n",
    "    W2 = W2 - alpha * dW2  \n",
    "    b2 = b2 - alpha * db2\n",
    "    W3 = W3 - alpha * dW3 \n",
    "    b3 = b3 - alpha * db3\n",
    "       \n",
    "    return W1, b1, W2, b2, W3, b3 \n"
   ]
  },
  {
   "cell_type": "code",
   "execution_count": null,
   "metadata": {},
   "outputs": [],
   "source": []
  },
  {
   "cell_type": "code",
   "execution_count": 61,
   "metadata": {},
   "outputs": [],
   "source": [
    "def get_predictions(A3):\n",
    "    return np.argmax(A3, 0)\n",
    "\n",
    "def get_accuracy(predictions, Y):\n",
    "    \n",
    "    return np.sum(predictions == Y) / Y.size\n",
    "\n",
    "def gradient_descent(X, Y, alpha, iterations):\n",
    "    W1, b1, W2, b2 ,W3, b3 = init_params()\n",
    "    for i in range(iterations):\n",
    "        Z1, A1, Z2, A2 ,Z3 ,A3 = forward_prop(X, W1, b1, W2, b2, W3, b3)\n",
    "        dW1, db1, dW2, db2, dW3, db3= backward_prop(Z1, A1, Z2, A2, Z3, A3, W1, W2, W3, X, Y)\n",
    "        W1, b1, W2, b2 ,W3 ,b3 = update_params(W1, b1, W2, b2, W3, b3, dW1, db1, dW2, db2, dW3, db3, alpha)\n",
    "        if i % 3 == 0:\n",
    "            print(\" on it sir Iteration: \", i)\n",
    "            predictions = get_predictions(A3)\n",
    "            print(get_accuracy(predictions, Y))\n",
    "    return W1, b1, W2, b2 ,W3 ,b3"
   ]
  },
  {
   "cell_type": "code",
   "execution_count": 62,
   "metadata": {},
   "outputs": [
    {
     "data": {
      "text/plain": [
       "60000"
      ]
     },
     "execution_count": 62,
     "metadata": {},
     "output_type": "execute_result"
    }
   ],
   "source": [
    "X_train[0].size"
   ]
  },
  {
   "cell_type": "code",
   "execution_count": 63,
   "metadata": {},
   "outputs": [],
   "source": [
    "\n",
    "\n",
    "def gd2(X_full, Y_full, alpha, iterations, W1, b1, W2, b2, W3, b3, bs=25, st=1):\n",
    "    m = X_full[0].size\n",
    "    epoch = m / 25\n",
    "\n",
    "    for i in range(iterations):\n",
    "        X = X_full[:, :((st + i) * bs) % m]\n",
    "        Y = Y_full[:((st + i) * bs) % m]\n",
    "\n",
    "        Z1, A1, Z2, A2, Z3, A3 = forward_prop(X, W1, b1, W2, b2, W3, b3)\n",
    "        dW1, db1, dW2, db2, dW3, db3 = backward_prop(Z1, A1, Z2, A2, Z3, A3,\n",
    "                                                     W1, W2, W3, X, Y)\n",
    "        W1, b1, W2, b2, W3, b3 = update_params(W1, b1, W2, b2, W3, b3,\n",
    "                                               dW1, db1, dW2, db2, dW3, db3, alpha)\n",
    "\n",
    "        if i % 3 == 0:\n",
    "            print(\"on it sir Iteration:\", i)\n",
    "            predictions = get_predictions(A3)\n",
    "            print(get_accuracy(predictions, Y))\n",
    "\n",
    "        if i % epoch == 0:\n",
    "            print(\"epoch:\", i / epoch)\n",
    "\n",
    "      \n",
    "        if i % 10 == 0:\n",
    "            weights = {\"W1\": W1, \"b1\": b1, \"W2\": W2, \"b2\": b2, \"W3\": W3, \"b3\": b3}\n",
    "            with open(f\"weightsSys.pkl\", \"wb\") as f:\n",
    "                pickle.dump(weights, f)\n",
    "\n",
    "    return W1, b1, W2, b2, W3, b3\n"
   ]
  },
  {
   "cell_type": "code",
   "execution_count": null,
   "metadata": {},
   "outputs": [],
   "source": []
  },
  {
   "cell_type": "code",
   "execution_count": 64,
   "metadata": {},
   "outputs": [
    {
     "data": {
      "text/plain": [
       "(10, 60000)"
      ]
     },
     "execution_count": 64,
     "metadata": {},
     "output_type": "execute_result"
    }
   ],
   "source": [
    "X_train[:][:10].shape"
   ]
  },
  {
   "cell_type": "code",
   "execution_count": 65,
   "metadata": {},
   "outputs": [
    {
     "data": {
      "text/plain": [
       "(784, 60000)"
      ]
     },
     "execution_count": 65,
     "metadata": {},
     "output_type": "execute_result"
    }
   ],
   "source": [
    "X_train.shape"
   ]
  },
  {
   "cell_type": "code",
   "execution_count": 66,
   "metadata": {},
   "outputs": [
    {
     "data": {
      "text/plain": [
       "(60000,)"
      ]
     },
     "execution_count": 66,
     "metadata": {},
     "output_type": "execute_result"
    }
   ],
   "source": [
    "Y_train.shape"
   ]
  },
  {
   "cell_type": "code",
   "execution_count": 67,
   "metadata": {},
   "outputs": [
    {
     "data": {
      "text/plain": [
       "(10, 25)"
      ]
     },
     "execution_count": 67,
     "metadata": {},
     "output_type": "execute_result"
    }
   ],
   "source": [
    "one_hot(Y_train[:25]).shape"
   ]
  },
  {
   "cell_type": "code",
   "execution_count": 68,
   "metadata": {},
   "outputs": [
    {
     "name": "stdout",
     "output_type": "stream",
     "text": [
      " on it sir Iteration:  0\n",
      "0.0\n"
     ]
    }
   ],
   "source": [
    "\n",
    "#TO load pretrained weights\n",
    "c = input(\"Do you want to import weights(Y/N)v:\")\n",
    "if c=='Y' or c=='y':\n",
    "    \n",
    "\n",
    "    with open(\"weightsSys.pkl\", \"rb\") as f:\n",
    "        weights = pickle.load(f)\n",
    "\n",
    "    W1 = weights[\"W1\"]\n",
    "    b1 = weights[\"b1\"]\n",
    "    W2 = weights[\"W2\"]\n",
    "    b2 = weights[\"b2\"]\n",
    "    W3 = weights[\"W3\"]\n",
    "    b3 = weights[\"b3\"]\n",
    "    print(\"loaded\")\n",
    "else :\n",
    "    W1, b1, W2, b2  ,W3 ,b3 = gradient_descent(X_train[:,:25], Y_train[:25].T, 0.225, 2)"
   ]
  },
  {
   "cell_type": "code",
   "execution_count": 69,
   "metadata": {},
   "outputs": [
    {
     "name": "stdout",
     "output_type": "stream",
     "text": [
      "on it sir Iteration: 0\n",
      "0.2\n",
      "epoch: 0.0\n",
      "on it sir Iteration: 3\n",
      "0.59\n",
      "on it sir Iteration: 6\n",
      "0.7371428571428571\n",
      "on it sir Iteration: 9\n",
      "0.792\n"
     ]
    }
   ],
   "source": [
    "W1, b1, W2, b2  ,W3 ,b3 = gd2(X_train, Y_train, 0.225, 10,W1, b1, W2, b2 ,W3, b3,bs = 25, st = 1)"
   ]
  },
  {
   "cell_type": "code",
   "execution_count": 70,
   "metadata": {},
   "outputs": [],
   "source": [
    "def make_predictions(X, W1, b1, W2, b2, W3, b3):\n",
    " \n",
    "    \n",
    "    _, _, _, _, _, A3 = forward_prop(X, W1, b1, W2, b2, W3, b3)  \n",
    "    predictions = get_predictions(A3)  \n",
    "    return predictions\n",
    "\n",
    "def test_prediction(index, X_test, Y_test, W1, b1, W2, b2, W3, b3):\n",
    "   \n",
    "\n",
    "    current_image = X_test[:, index, None]  \n",
    "    \n",
    "   \n",
    "    prediction = make_predictions(current_image, W1, b1, W2, b2, W3, b3)\n",
    "    label = Y_test[index]\n",
    "    \n",
    "   \n",
    "    print(\"Prediction:\", prediction[0]) \n",
    "    print(\"Label:\", label)\n",
    "    \n",
    "    \n",
    "    current_image = current_image.reshape((28, 28)) * 255  \n",
    "    plt.gray()\n",
    "    plt.imshow(current_image, interpolation='nearest')\n",
    "    plt.title(f\"Prediction: {prediction[0]}, Label: {label}\")\n",
    "    plt.show()\n",
    "\n",
    "    \n",
    "    \n",
    "\n",
    "    \n",
    "    "
   ]
  },
  {
   "cell_type": "code",
   "execution_count": 71,
   "metadata": {},
   "outputs": [
    {
     "name": "stdout",
     "output_type": "stream",
     "text": [
      "421\n",
      "Prediction: 2\n",
      "Label: 2\n"
     ]
    },
    {
     "data": {
      "image/png": "[encoded data removed]",
      "text/plain": [
       "<Figure size 640x480 with 1 Axes>"
      ]
     },
     "metadata": {},
     "output_type": "display_data"
    }
   ],
   "source": [
    "k=random.randint(0, 1000)\n",
    "print(k)\n",
    "test_prediction(k, X_test, Y_test, W1, b1, W2, b2, W3 , b3)\n",
    "\n",
    "\n",
    "#645\n",
    "\n",
    "\n"
   ]
  },
  {
   "cell_type": "code",
   "execution_count": 72,
   "metadata": {},
   "outputs": [],
   "source": [
    "def final_test(X_test, Y_test, W1, b1, W2, b2, W3, b3, iterations):\n",
    "    total_samples = min(iterations, X_test.shape[1]) \n",
    "    correct_predictions = 0\n",
    "    error_List = []\n",
    "\n",
    "    for i in range(total_samples):\n",
    "        if i % 10 == 0:  \n",
    "            print(\"Processing Iteration:\", i)\n",
    "\n",
    "       \n",
    "        current_image = X_test[:, i, None] \n",
    "        \n",
    "        \n",
    "        prediction = make_predictions(current_image, W1, b1, W2, b2, W3, b3)\n",
    "        \n",
    "       \n",
    "        if prediction == Y_test[i]:\n",
    "            correct_predictions += 1\n",
    "        else:\n",
    "            error_List.append(i)\n",
    "    \n",
    "    \n",
    "\n",
    "    print(\"Total error : \")\n",
    "    print(len(error_List))\n",
    "    accuracy = correct_predictions / total_samples * 100\n",
    "    print(f\"Final Accuracy over {total_samples} samples: {accuracy:.4f}%\")\n",
    "    return accuracy,error_List\n"
   ]
  },
  {
   "cell_type": "code",
   "execution_count": 73,
   "metadata": {},
   "outputs": [
    {
     "data": {
      "text/plain": [
       "(784, 60000)"
      ]
     },
     "execution_count": 73,
     "metadata": {},
     "output_type": "execute_result"
    }
   ],
   "source": [
    "X_train.shape\n"
   ]
  },
  {
   "cell_type": "code",
   "execution_count": null,
   "metadata": {},
   "outputs": [],
   "source": [
    "ma.printMac()"
   ]
  },
  {
   "cell_type": "code",
   "execution_count": null,
   "metadata": {},
   "outputs": [],
   "source": [
    "final_test(X_test, Y_test, W1, b1, W2, b2, W3, b3, 60)"
   ]
  }
 ],
 "metadata": {
  "kernelspec": {
   "display_name": "venvIBM",
   "language": "python",
   "name": "python3"
  },
  "language_info": {
   "codemirror_mode": {
    "name": "ipython",
    "version": 3
   },
   "file_extension": ".py",
   "mimetype": "text/x-python",
   "name": "python",
   "nbconvert_exporter": "python",
   "pygments_lexer": "ipython3",
   "version": "3.11.11"
  }
 },
 "nbformat": 4,
 "nbformat_minor": 2
}
